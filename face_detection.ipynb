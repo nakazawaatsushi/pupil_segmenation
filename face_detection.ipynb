{
 "cells": [
  {
   "cell_type": "code",
   "execution_count": 1,
   "metadata": {},
   "outputs": [
    {
     "ename": "ModuleNotFoundError",
     "evalue": "No module named 'dlib'",
     "output_type": "error",
     "traceback": [
      "\u001b[1;31m---------------------------------------------------------------------------\u001b[0m",
      "\u001b[1;31mModuleNotFoundError\u001b[0m                       Traceback (most recent call last)",
      "\u001b[1;32m<ipython-input-1-2d46650c6efe>\u001b[0m in \u001b[0;36m<module>\u001b[1;34m()\u001b[0m\n\u001b[0;32m      5\u001b[0m \u001b[1;32mfrom\u001b[0m \u001b[0m__future__\u001b[0m \u001b[1;32mimport\u001b[0m \u001b[0mprint_function\u001b[0m\u001b[1;33m\u001b[0m\u001b[0m\n\u001b[0;32m      6\u001b[0m \u001b[1;33m\u001b[0m\u001b[0m\n\u001b[1;32m----> 7\u001b[1;33m \u001b[1;32mimport\u001b[0m \u001b[0mos\u001b[0m\u001b[1;33m,\u001b[0m \u001b[0msys\u001b[0m\u001b[1;33m,\u001b[0m \u001b[0mimghdr\u001b[0m\u001b[1;33m,\u001b[0m \u001b[0mshutil\u001b[0m\u001b[1;33m,\u001b[0m \u001b[0mdlib\u001b[0m\u001b[1;33m,\u001b[0m \u001b[0mcv2\u001b[0m\u001b[1;33m\u001b[0m\u001b[0m\n\u001b[0m\u001b[0;32m      8\u001b[0m \u001b[1;33m\u001b[0m\u001b[0m\n\u001b[0;32m      9\u001b[0m \u001b[0mCWD\u001b[0m \u001b[1;33m=\u001b[0m \u001b[0mos\u001b[0m\u001b[1;33m.\u001b[0m\u001b[0mgetcwd\u001b[0m\u001b[1;33m(\u001b[0m\u001b[1;33m)\u001b[0m\u001b[1;33m\u001b[0m\u001b[0m\n",
      "\u001b[1;31mModuleNotFoundError\u001b[0m: No module named 'dlib'"
     ]
    }
   ],
   "source": [
    "# -*- coding: utf-8 -*-\n",
    "\n",
    "from __future__ import absolute_import\n",
    "from __future__ import division\n",
    "from __future__ import print_function\n",
    "\n",
    "import os, sys, imghdr, shutil, dlib, cv2\n",
    "\n",
    "CWD = os.getcwd()\n",
    "DIR_ORIGIN = CWD + '/images/'\n",
    "DIR_DESTINATION = CWD + '/faces/'\n",
    "CUT_OFF = -0.1\n",
    "\n",
    "detector = dlib.get_frontal_face_detector()\n",
    "# predictor = dlib.shape_predictor('./shape_predictor_68_face_landmarks.dat')"
   ]
  },
  {
   "cell_type": "code",
   "execution_count": null,
   "metadata": {},
   "outputs": [],
   "source": [
    "def getFaces(path_full):\n",
    "    results = []\n",
    "    image = cv2.imread(path_full)\n",
    "    height, width = image.shape[:2]\n",
    "    rects, scores, types = detector.run(image, 1, CUT_OFF)\n",
    "    for i, rect in enumerate(rects):\n",
    "        top, bottom, left, right = rect.top(), rect.bottom(), rect.left(), rect.right()\n",
    "        if min(top, height - bottom - 1, left, width - right - 1) < 0:\n",
    "            continue\n",
    "        results.append({\n",
    "            'image'       : image[top : bottom, left : right],\n",
    "            'score'       : scores[i],\n",
    "            'orientation' : types[i]\n",
    "        })\n",
    "        # shape = predictor(image, rect)\n",
    "        # for i in range(shape.num_parts):\n",
    "        #     print(shape.part(i))\n",
    "    return results\n",
    "\n",
    "count = 1\n",
    "for path, subdirs, files in os.walk(DIR_ORIGIN):\n",
    "    for name in files:\n",
    "            path_full = os.path.join(path, name)\n",
    "            if imghdr.what(path_full) in ['jpeg']:\n",
    "                faces = getFaces(path_full)\n",
    "                for face in faces:\n",
    "                    file_name = '{destination_dir}/{score}_{type}_{count}_dlib.jpg'.format(\n",
    "                        destination_dir = DIR_DESTINATION,\n",
    "                        score = face['score'],\n",
    "                        type = int(face['orientation']),\n",
    "                        count = count\n",
    "                    )\n",
    "                    cv2.imwrite(file_name, face['image'], [cv2.IMWRITE_JPEG_QUALITY, 100])\n",
    "                    count += 1\n",
    "                print(path_full)"
   ]
  }
 ],
 "metadata": {
  "kernelspec": {
   "display_name": "Python 3",
   "language": "python",
   "name": "python3"
  },
  "language_info": {
   "codemirror_mode": {
    "name": "ipython",
    "version": 3
   },
   "file_extension": ".py",
   "mimetype": "text/x-python",
   "name": "python",
   "nbconvert_exporter": "python",
   "pygments_lexer": "ipython3",
   "version": "3.6.3"
  }
 },
 "nbformat": 4,
 "nbformat_minor": 2
}
