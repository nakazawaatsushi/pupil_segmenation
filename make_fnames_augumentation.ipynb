{
 "cells": [
  {
   "cell_type": "code",
   "execution_count": 2,
   "metadata": {},
   "outputs": [],
   "source": [
    "#!/usr/bin/env python\n",
    "# -*- coding: utf-8 -*-\n",
    "#\n",
    "#   Convert RGB images to CIE-LAB Color File\n",
    "\n",
    "from __future__ import print_function\n",
    "import argparse\n",
    "import os\n",
    "from fname_func import make_fnames, load_fnames"
   ]
  },
  {
   "cell_type": "code",
   "execution_count": 14,
   "metadata": {},
   "outputs": [],
   "source": [
    "#\n",
    "#  MAIN STARTS FROM HERE\n",
    "#\n",
    "if __name__ == '__main__':\n",
    "    \n",
    "    dir = './data_augumented/'\n",
    "    dir_dst = './data_augumented/nn/'\n",
    "\n",
    "\n",
    "    for i in range(1,11):\n",
    "        fnames = load_fnames('%s/list_valid_%02d.txt'%(dir,i))\n",
    "        fnames_new = []\n",
    "        for name in fnames:\n",
    "            fnames_new.append(name)\n",
    "            for j in range(0,3):\n",
    "                ff = '%02d_%s'%(j,name)\n",
    "                fnames_new.append(ff)\n",
    "        \n",
    "        f = open('%s/list_valid_%02d.txt'%(dir_dst,i), 'w')\n",
    "        for x in fnames_new:\n",
    "            f.write(str(x) + \"\\n\")\n",
    "        f.close()\n",
    "        "
   ]
  },
  {
   "cell_type": "code",
   "execution_count": null,
   "metadata": {
    "collapsed": true
   },
   "outputs": [],
   "source": []
  }
 ],
 "metadata": {
  "kernelspec": {
   "display_name": "Python 3",
   "language": "python",
   "name": "python3"
  },
  "language_info": {
   "codemirror_mode": {
    "name": "ipython",
    "version": 3
   },
   "file_extension": ".py",
   "mimetype": "text/x-python",
   "name": "python",
   "nbconvert_exporter": "python",
   "pygments_lexer": "ipython3",
   "version": "3.6.3"
  }
 },
 "nbformat": 4,
 "nbformat_minor": 2
}
